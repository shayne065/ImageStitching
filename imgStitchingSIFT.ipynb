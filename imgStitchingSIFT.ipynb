{
 "cells": [
  {
   "cell_type": "code",
   "execution_count": 128,
   "metadata": {},
   "outputs": [],
   "source": [
    "import cv2\n",
    "import numpy as np\n",
    "import matplotlib.pyplot as plt\n",
    "from random import randrange"
   ]
  },
  {
   "cell_type": "code",
   "execution_count": 129,
   "metadata": {},
   "outputs": [],
   "source": [
    "#imgHotelRight/Left G-Grey\n",
    "#imgShanghaiRight/Left G-Grey\n",
    "#if the name contains Hl its for the hotel\n",
    "#if the name contains Sh its for Shanghai\n",
    "imgHlR = cv2.imread(\"rightHl.png\")\n",
    "imgHlRG = cv2.cvtColor(imgHlR,cv2.COLOR_BGR2GRAY)\n",
    "imgHlL = cv2.imread(\"leftHl.png\")\n",
    "imgHlLG = cv2.cvtColor(imgHlL,cv2.COLOR_BGR2GRAY)\n",
    "imgShR = cv2.imread(\"rightSh.png\")\n",
    "imgShRG = cv2.cvtColor(imgShR,cv2.COLOR_BGR2GRAY)\n",
    "imgShL = cv2.imread(\"leftSh.png\")\n",
    "imgShLG = cv2.cvtColor(imgShL,cv2.COLOR_BGR2GRAY)"
   ]
  },
  {
   "cell_type": "code",
   "execution_count": 130,
   "metadata": {},
   "outputs": [],
   "source": [
    "#SIFT keypoints and descriptors\n",
    "sift = cv2.xfeatures2d.SIFT_create()\n",
    "kpHl1, desHl1 = sift.detectAndCompute(imgHlRG,None)\n",
    "kpHl2, desHl2 = sift.detectAndCompute(imgHlLG,None)\n",
    "kpSh1, desSh1 = sift.detectAndCompute(imgShRG,None)\n",
    "kpSh2, desSh2 = sift.detectAndCompute(imgShLG,None)"
   ]
  },
  {
   "cell_type": "code",
   "execution_count": 131,
   "metadata": {},
   "outputs": [],
   "source": [
    "#k nearest neighbours\n",
    "bf = cv2.BFMatcher()\n",
    "matchesHl = bf.knnMatch(desHl1,desHl2, k=2)\n",
    "matchesSh = bf.knnMatch(desSh1,desSh2, k=2)"
   ]
  },
  {
   "cell_type": "code",
   "execution_count": 132,
   "metadata": {},
   "outputs": [],
   "source": [
    "# Hotel ratio test\n",
    "goodHl = []\n",
    "for m in matchesHl:\n",
    "    if m[0].distance < 0.5*m[1].distance:\n",
    "        goodHl.append(m)\n",
    "matchesHl = np.asarray(goodHl)\n",
    "# Shanghai ratio test\n",
    "goodSh = []\n",
    "for m in matchesSh:\n",
    "    if m[0].distance < 0.5*m[1].distance:\n",
    "        goodSh.append(m)\n",
    "matchesSh = np.asarray(goodSh)"
   ]
  },
  {
   "cell_type": "code",
   "execution_count": 133,
   "metadata": {},
   "outputs": [],
   "source": [
    "#Hotel homography matrix\n",
    "if len(matches[:,0]) >= 4:\n",
    "    srcHl = np.float32([ kpHl1[m.queryIdx].pt for m in matchesHl[:,0] ]).reshape(-1,1,2)\n",
    "    finalHl = np.float32([ kpHl2[m.trainIdx].pt for m in matchesHl[:,0] ]).reshape(-1,1,2)\n",
    "    HHl, masked = cv2.findHomography(srcHl, finalHl, cv2.RANSAC, 5.0)\n",
    "    #print H\n",
    "else:\n",
    "    raise AssertionError(\"Can’t find enough keypoints hl.\")\n",
    "#Shanghai homography matrix\n",
    "if len(matches[:,0]) >= 4:\n",
    "    srcSh = np.float32([ kpSh1[m.queryIdx].pt for m in matchesSh[:,0] ]).reshape(-1,1,2)\n",
    "    finalSh = np.float32([ kpSh2[m.trainIdx].pt for m in matchesSh[:,0] ]).reshape(-1,1,2)\n",
    "    HSh, masked = cv2.findHomography(srcSh, finalSh, cv2.RANSAC, 5.0)\n",
    "else:\n",
    "    raise AssertionError(\"Can’t find enough keypoints Sh.\")"
   ]
  },
  {
   "cell_type": "code",
   "execution_count": 135,
   "metadata": {},
   "outputs": [
    {
     "data": {
      "text/plain": [
       "True"
      ]
     },
     "execution_count": 135,
     "metadata": {},
     "output_type": "execute_result"
    }
   ],
   "source": [
    "finalHl = cv2.warpPerspective(imgHlR,HHl,(imgHlL.shape[1] + imgHlR.shape[1], imgHlL.shape[0]))\n",
    "finalHl[0:imgHlL.shape[0], 0:imgHlL.shape[1]] = imgHlL\n",
    "draw_params = dict(matchColor = (0,255,0),\n",
    "                   singlePointColor = None,\n",
    "                   flags = 2)\n",
    "matchesHl = cv2.drawMatchesKnn(imgHlR,kpHl1,imgHlL,kpHl2,goodHl,None,**draw_params)\n",
    "\n",
    "finalSh = cv2.warpPerspective(imgShR,HSh,(imgShL.shape[1] + imgShR.shape[1], imgShL.shape[0]))\n",
    "finalSh[0:imgShL.shape[0], 0:imgShL.shape[1]] = imgShL\n",
    "matchesSh = cv2.drawMatchesKnn(imgShR,kpSh1,imgShL,kpSh2,goodSh,None,**draw_params)\n",
    "\n",
    "cv2.imwrite(\"matchShangHai/SIFTmatches.png\",matchesSh)\n",
    "cv2.imwrite(\"panShangHai/SIFTpan.png\",finalSh)\n",
    "cv2.imwrite(\"matchesHotel/SIFTmatches.png\",matchesHl)\n",
    "cv2.imwrite(\"panHotel/SIFTpan.png\",finalHl)"
   ]
  },
  {
   "cell_type": "code",
   "execution_count": null,
   "metadata": {},
   "outputs": [],
   "source": []
  }
 ],
 "metadata": {
  "kernelspec": {
   "display_name": "Python 3",
   "language": "python",
   "name": "python3"
  },
  "language_info": {
   "codemirror_mode": {
    "name": "ipython",
    "version": 3
   },
   "file_extension": ".py",
   "mimetype": "text/x-python",
   "name": "python",
   "nbconvert_exporter": "python",
   "pygments_lexer": "ipython3",
   "version": "3.6.7"
  }
 },
 "nbformat": 4,
 "nbformat_minor": 2
}
